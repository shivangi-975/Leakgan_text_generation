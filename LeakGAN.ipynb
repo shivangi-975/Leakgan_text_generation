{
  "nbformat": 4,
  "nbformat_minor": 0,
  "metadata": {
    "colab": {
      "name": "LeakGAN",
      "provenance": [],
      "collapsed_sections": [],
      "machine_shape": "hm"
    },
    "kernelspec": {
      "name": "python3",
      "display_name": "Python 3"
    },
    "language_info": {
      "name": "python"
    },
    "accelerator": "GPU"
  },
  "cells": [
    {
      "cell_type": "code",
      "metadata": {
        "colab": {
          "base_uri": "https://localhost:8080/"
        },
        "id": "tswjjVEPu7AC",
        "outputId": "17d17772-6140-4a8e-b962-4a23efaeb290"
      },
      "source": [
        "cd /content/drive/MyDrive/GRU-leakgan"
      ],
      "execution_count": 13,
      "outputs": [
        {
          "output_type": "stream",
          "text": [
            "/content/drive/MyDrive/GRU-leakgan\n"
          ],
          "name": "stdout"
        }
      ]
    },
    {
      "cell_type": "code",
      "metadata": {
        "colab": {
          "base_uri": "https://localhost:8080/"
        },
        "id": "Pyy-JtHhoASD",
        "outputId": "cfe76fb6-e903-49b2-945a-d172e662c262"
      },
      "source": [
        "from google.colab import drive\n",
        "drive.mount('/content/drive')"
      ],
      "execution_count": 1,
      "outputs": [
        {
          "output_type": "stream",
          "text": [
            "Mounted at /content/drive\n"
          ],
          "name": "stdout"
        }
      ]
    },
    {
      "cell_type": "markdown",
      "metadata": {
        "id": "zmrxAYx0iBPQ"
      },
      "source": [
        "Importing packages\n"
      ]
    },
    {
      "cell_type": "code",
      "metadata": {
        "id": "BrMZng8s3WEl"
      },
      "source": [
        "import numpy as np\n",
        "import pickle\n",
        "from functools import reduce"
      ],
      "execution_count": 3,
      "outputs": []
    },
    {
      "cell_type": "markdown",
      "metadata": {
        "id": "SJ6nNO0XiHhU"
      },
      "source": [
        "Text Preprocessing\n"
      ]
    },
    {
      "cell_type": "code",
      "metadata": {
        "id": "pkex1x-UhdpM"
      },
      "source": [
        "def generate_vocab(filePath, vocabpath):\n",
        "    \"\"\"\n",
        "        Read text from file\n",
        "    \"\"\"\n",
        "    with open(filePath, 'r') as f:\n",
        "        lines = f.readlines()\n",
        "    f.close()\n",
        "    corpus = []\n",
        "    for l in lines:\n",
        "        l = l.strip().split(' ') \n",
        "        if len(l) < 28:\n",
        "            corpus.append(l)\n",
        "\n",
        "    vocab = []\n",
        "    for p in corpus:\n",
        "        vocab.extend(p)\n",
        "    vocab = list(set(vocab)) \n",
        "    for i in range(len(vocab)):\n",
        "        if vocab[i] == \"<R>\":\n",
        "            break\n",
        "    del vocab[i]\n",
        "    vocab.append(\"<R>\")\n",
        "\n",
        "    corpus_num = []\n",
        "    for sentence in corpus:\n",
        "      for word in sentence:\n",
        "        if word in vocab:\n",
        "          continue\n",
        "        else:\n",
        "          vocab.append(word)\n",
        "\n",
        "    # In order to generate vocabulary file for tensorflow codebase please uncomment the following lines\n",
        "    # vocab_tf = []\n",
        "    # for i in range(len(vocab)):\n",
        "    #   tup = (vocab[i], str(i)) # word, encoding pair\n",
        "    #   vocab_tf.append(tup)\n",
        "\n",
        "    f = open(vocabpath, \"wb\") \n",
        "    pickle.dump(vocab, f)\n",
        "\n",
        "def generate_arrData(filepath, seqlen, vocabpath):\n",
        "  vocab = pickle.load(open(vocabpath, 'rb'))\n",
        "  arr = np.empty((0,seqlen), int)\n",
        "  with open(filepath, 'r') as fin:\n",
        "    corpus_num = []\n",
        "    for line in fin:\n",
        "      line = line.split()\n",
        "      line = line[0:seqlen]\n",
        "      for word in line:\n",
        "        corpus_num.append(vocab.index(word)+1)\n",
        "      arr = np.vstack((arr,np.asarray(corpus_num)))\n",
        "      corpus_num.clear()\n",
        "  return arr\n",
        "\n",
        "def tensor_to_text(outputfilepath, arraypath, vocabpath):\n",
        "  vocab = pickle.load(open(vocabpath, 'rb'))\n",
        "  with open(outputfilepath, 'w') as fout:\n",
        "    gen = np.load(arraypath)\n",
        "    for i in range(gen.shape[0]):\n",
        "      words = [int(x) for x in gen[i]]\n",
        "      words = [vocab[x-1] for x in words]\n",
        "      words = ' '.join(words) + '\\n'\n",
        "      fout.write(words)"
      ],
      "execution_count": 4,
      "outputs": []
    },
    {
      "cell_type": "code",
      "metadata": {
        "id": "VhyNzhQZ4sbV"
      },
      "source": [
        "dataset_text = \"data/realtrain_cotra_text.txt\"\n",
        "vocab_file = \"data/chars.pkl\"\n",
        "# generate_vocab(dataset_text, vocab_file)"
      ],
      "execution_count": 5,
      "outputs": []
    },
    {
      "cell_type": "code",
      "metadata": {
        "colab": {
          "base_uri": "https://localhost:8080/"
        },
        "id": "AI4WVWkrpFdV",
        "outputId": "e68f1a63-0582-4b31-dab4-2f07dedf10c4"
      },
      "source": [
        "vocab = pickle.load(open(vocab_file, 'rb'))\n",
        "len(vocab)"
      ],
      "execution_count": 6,
      "outputs": [
        {
          "output_type": "execute_result",
          "data": {
            "text/plain": [
              "4797"
            ]
          },
          "metadata": {
            "tags": []
          },
          "execution_count": 6
        }
      ]
    },
    {
      "cell_type": "code",
      "metadata": {
        "colab": {
          "base_uri": "https://localhost:8080/"
        },
        "id": "AmX7ePuHqDSP",
        "outputId": "f69cae56-fdd8-4df7-9b9f-07a8794aff43"
      },
      "source": [
        "seqlen = 10\n",
        "data_arr = generate_arrData(dataset_text, seqlen, vocab_file)\n",
        "data_arr"
      ],
      "execution_count": 8,
      "outputs": [
        {
          "output_type": "execute_result",
          "data": {
            "text/plain": [
              "array([[4731, 4737,  712, ..., 2543,  246, 2674],\n",
              "       [2383,  258, 1698, ..., 3058, 2114, 4698],\n",
              "       [2004, 1486, 3890, ..., 1487, 2029, 3067],\n",
              "       ...,\n",
              "       [4731, 2075, 1078, ..., 1029, 1441, 1796],\n",
              "       [4731,  909,  712, ..., 2777, 2029,  787],\n",
              "       [3138, 1815, 3877, ..., 3997,  712, 1625]])"
            ]
          },
          "metadata": {
            "tags": []
          },
          "execution_count": 8
        }
      ]
    },
    {
      "cell_type": "code",
      "metadata": {
        "id": "dyYoZr52pqjs"
      },
      "source": [
        "np.save(\"data/corpus\", data_arr)"
      ],
      "execution_count": 9,
      "outputs": []
    },
    {
      "cell_type": "code",
      "metadata": {
        "id": "oy1GOdYt4x5L"
      },
      "source": [
        "data_train = data_arr[0:40000]\n",
        "np.save(\"data/train_corpus\", data_train)\n",
        "data_test = data_arr[40000:45000]\n",
        "np.save(\"data/test_corpus\", data_test)"
      ],
      "execution_count": 10,
      "outputs": []
    },
    {
      "cell_type": "code",
      "metadata": {
        "colab": {
          "base_uri": "https://localhost:8080/"
        },
        "id": "qJZsUj61ATMH",
        "outputId": "6904467f-28d8-4e39-acb0-9d7aab0730f5"
      },
      "source": [
        "!python2 main.py"
      ],
      "execution_count": null,
      "outputs": [
        {
          "output_type": "stream",
          "text": [
            "#########################################################################\n",
            "Start Pretraining Discriminator...\n",
            "Epoch: 0/10  Pre-Discriminator\n",
            "/usr/local/lib/python2.7/dist-packages/torch/optim/lr_scheduler.py:122: UserWarning: Detected call of `lr_scheduler.step()` before `optimizer.step()`. In PyTorch 1.1.0 and later, you should call them in the opposite order: `optimizer.step()` before `lr_scheduler.step()`.  Failure to do this will result in PyTorch skipping the first value of the learning rate schedule. See more details at https://pytorch.org/docs/stable/optim.html#how-to-adjust-learning-rate\n",
            "  \"https://pytorch.org/docs/stable/optim.html#how-to-adjust-learning-rate\", UserWarning)\n",
            "Pre-Discriminator loss: 0.55170\n",
            "Epoch: 1/10  Pre-Discriminator\n",
            "Pre-Discriminator loss: 0.09769\n",
            "Epoch: 2/10  Pre-Discriminator\n",
            "Pre-Discriminator loss: 0.03683\n",
            "Epoch: 3/10  Pre-Discriminator\n",
            "Pre-Discriminator loss: 0.02435\n",
            "Epoch: 4/10  Pre-Discriminator\n",
            "Pre-Discriminator loss: 0.01297\n",
            "Epoch: 5/10  Pre-Discriminator\n",
            "Pre-Discriminator loss: 0.01769\n",
            "Epoch: 6/10  Pre-Discriminator\n",
            "Pre-Discriminator loss: 0.00705\n",
            "Epoch: 7/10  Pre-Discriminator\n",
            "Pre-Discriminator loss: 0.00925\n",
            "Epoch: 8/10  Pre-Discriminator\n",
            "Pre-Discriminator loss: 0.00560\n",
            "Epoch: 9/10  Pre-Discriminator\n",
            "Pre-Discriminator loss: 0.00495\n",
            "#########################################################################\n",
            "Start Pretraining Generator...\n",
            "Epoch: 0/10  Pre-Generator\n",
            "Pre-Manager Loss: -0.99939, Pre-Worker Loss: 0.00176\n",
            "\n",
            "Epoch: 1/10  Pre-Generator\n",
            "Pre-Manager Loss: -0.99837, Pre-Worker Loss: 0.00177\n",
            "\n",
            "Epoch: 2/10  Pre-Generator\n",
            "Pre-Manager Loss: -1.00080, Pre-Worker Loss: 0.00177\n",
            "\n",
            "Epoch: 3/10  Pre-Generator\n",
            "Pre-Manager Loss: -1.00030, Pre-Worker Loss: 0.00177\n",
            "\n",
            "Epoch: 4/10  Pre-Generator\n",
            "Pre-Manager Loss: -0.99942, Pre-Worker Loss: 0.00177\n",
            "\n",
            "Epoch: 5/10  Pre-Generator\n",
            "Pre-Manager Loss: -0.99741, Pre-Worker Loss: 0.00176\n",
            "\n",
            "Epoch: 6/10  Pre-Generator\n",
            "Pre-Manager Loss: -1.00036, Pre-Worker Loss: 0.00177\n",
            "\n",
            "Epoch: 7/10  Pre-Generator\n",
            "Pre-Manager Loss: -0.99623, Pre-Worker Loss: 0.00177\n",
            "\n",
            "Epoch: 8/10  Pre-Generator\n",
            "Pre-Manager Loss: -0.99892, Pre-Worker Loss: 0.00177\n",
            "\n",
            "Epoch: 9/10  Pre-Generator\n",
            "Pre-Manager Loss: -0.99834, Pre-Worker Loss: 0.00176\n",
            "\n",
            "#########################################################################\n",
            "Start Adversarial Training...\n",
            "Epoch: 0/100  Adv\n",
            "Adv-Manager loss: -0.24666 Adv-Worker loss: 8.47666\n",
            "0/[0, 1, 2, 3, 4] Adv-Discriminator Loss: 0.00652\n",
            "1/[0, 1, 2, 3, 4] Adv-Discriminator Loss: 0.00287\n",
            "2/[0, 1, 2, 3, 4] Adv-Discriminator Loss: 0.00227\n",
            "3/[0, 1, 2, 3, 4] Adv-Discriminator Loss: 0.00117\n",
            "4/[0, 1, 2, 3, 4] Adv-Discriminator Loss: 0.00123\n",
            "Epoch: 1/100  Adv\n",
            "Adv-Manager loss: -0.24626 Adv-Worker loss: 8.48000\n",
            "0/[0, 1, 2, 3, 4] Adv-Discriminator Loss: 0.00095\n",
            "1/[0, 1, 2, 3, 4] Adv-Discriminator Loss: 0.00099\n",
            "2/[0, 1, 2, 3, 4] Adv-Discriminator Loss: 0.00070\n",
            "3/[0, 1, 2, 3, 4] Adv-Discriminator Loss: 0.00064\n",
            "4/[0, 1, 2, 3, 4] Adv-Discriminator Loss: 0.00084\n",
            "Epoch: 2/100  Adv\n",
            "Adv-Manager loss: -0.24674 Adv-Worker loss: 8.49674\n",
            "0/[0, 1, 2, 3, 4] Adv-Discriminator Loss: 0.00070\n",
            "1/[0, 1, 2, 3, 4] Adv-Discriminator Loss: 0.00057\n",
            "2/[0, 1, 2, 3, 4] Adv-Discriminator Loss: 0.00058\n",
            "3/[0, 1, 2, 3, 4] Adv-Discriminator Loss: 0.00521\n",
            "4/[0, 1, 2, 3, 4] Adv-Discriminator Loss: 0.00053\n",
            "Epoch: 3/100  Adv\n",
            "Adv-Manager loss: -0.24558 Adv-Worker loss: 8.46098\n",
            "0/[0, 1, 2, 3, 4] Adv-Discriminator Loss: 0.00048\n",
            "1/[0, 1, 2, 3, 4] Adv-Discriminator Loss: 0.00045\n",
            "2/[0, 1, 2, 3, 4] Adv-Discriminator Loss: 0.00064\n",
            "3/[0, 1, 2, 3, 4] Adv-Discriminator Loss: 0.00045\n",
            "4/[0, 1, 2, 3, 4] Adv-Discriminator Loss: 0.00042\n",
            "Epoch: 4/100  Adv\n",
            "Adv-Manager loss: -0.24657 Adv-Worker loss: 8.46811\n",
            "0/[0, 1, 2, 3, 4] Adv-Discriminator Loss: 0.00051\n",
            "1/[0, 1, 2, 3, 4] Adv-Discriminator Loss: 0.00041\n",
            "2/[0, 1, 2, 3, 4] Adv-Discriminator Loss: 0.00045\n",
            "3/[0, 1, 2, 3, 4] Adv-Discriminator Loss: 0.00047\n",
            "4/[0, 1, 2, 3, 4] Adv-Discriminator Loss: 0.00041\n",
            "Epoch: 5/100  Adv\n",
            "Adv-Manager loss: -0.24567 Adv-Worker loss: 8.46983\n",
            "0/[0, 1, 2, 3, 4] Adv-Discriminator Loss: 0.00044\n",
            "1/[0, 1, 2, 3, 4] Adv-Discriminator Loss: 0.00039\n",
            "2/[0, 1, 2, 3, 4] Adv-Discriminator Loss: 0.00054\n",
            "3/[0, 1, 2, 3, 4] Adv-Discriminator Loss: 0.00049\n",
            "4/[0, 1, 2, 3, 4] Adv-Discriminator Loss: 0.00058\n",
            "Epoch: 6/100  Adv\n",
            "Adv-Manager loss: -0.24584 Adv-Worker loss: 8.46051\n",
            "0/[0, 1, 2, 3, 4] Adv-Discriminator Loss: 0.00040\n",
            "1/[0, 1, 2, 3, 4] Adv-Discriminator Loss: 0.00044\n",
            "2/[0, 1, 2, 3, 4] Adv-Discriminator Loss: 0.00063\n",
            "3/[0, 1, 2, 3, 4] Adv-Discriminator Loss: 0.00041\n",
            "4/[0, 1, 2, 3, 4] Adv-Discriminator Loss: 0.00042\n",
            "Epoch: 7/100  Adv\n",
            "Adv-Manager loss: -0.24582 Adv-Worker loss: 8.47611\n",
            "0/[0, 1, 2, 3, 4] Adv-Discriminator Loss: 0.00043\n",
            "1/[0, 1, 2, 3, 4] Adv-Discriminator Loss: 0.00039\n",
            "2/[0, 1, 2, 3, 4] Adv-Discriminator Loss: 0.00040\n",
            "3/[0, 1, 2, 3, 4] Adv-Discriminator Loss: 0.00041\n",
            "4/[0, 1, 2, 3, 4] Adv-Discriminator Loss: 0.00037\n",
            "Epoch: 8/100  Adv\n",
            "Adv-Manager loss: -0.24649 Adv-Worker loss: 8.48218\n",
            "0/[0, 1, 2, 3, 4] Adv-Discriminator Loss: 0.00052\n",
            "1/[0, 1, 2, 3, 4] Adv-Discriminator Loss: 0.00040\n",
            "2/[0, 1, 2, 3, 4] Adv-Discriminator Loss: 0.00065\n",
            "3/[0, 1, 2, 3, 4] Adv-Discriminator Loss: 0.00051\n",
            "4/[0, 1, 2, 3, 4] Adv-Discriminator Loss: 0.00039\n",
            "Epoch: 9/100  Adv\n",
            "Adv-Manager loss: -0.24668 Adv-Worker loss: 8.49581\n",
            "0/[0, 1, 2, 3, 4] Adv-Discriminator Loss: 0.00043\n",
            "1/[0, 1, 2, 3, 4] Adv-Discriminator Loss: 0.00059\n",
            "2/[0, 1, 2, 3, 4] Adv-Discriminator Loss: 0.00037\n",
            "3/[0, 1, 2, 3, 4] Adv-Discriminator Loss: 0.00049\n",
            "4/[0, 1, 2, 3, 4] Adv-Discriminator Loss: 0.00040\n",
            "Epoch: 10/100  Adv\n",
            "Adv-Manager loss: -0.24670 Adv-Worker loss: 8.47546\n",
            "0/[0, 1, 2, 3, 4] Adv-Discriminator Loss: 0.00038\n",
            "1/[0, 1, 2, 3, 4] Adv-Discriminator Loss: 0.00038\n",
            "2/[0, 1, 2, 3, 4] Adv-Discriminator Loss: 0.00049\n",
            "3/[0, 1, 2, 3, 4] Adv-Discriminator Loss: 0.00039\n",
            "4/[0, 1, 2, 3, 4] Adv-Discriminator Loss: 0.00042\n",
            "Epoch: 11/100  Adv\n",
            "Adv-Manager loss: -0.24645 Adv-Worker loss: 8.47441\n",
            "0/[0, 1, 2, 3, 4] Adv-Discriminator Loss: 0.00037\n",
            "1/[0, 1, 2, 3, 4] Adv-Discriminator Loss: 0.00055\n",
            "2/[0, 1, 2, 3, 4] Adv-Discriminator Loss: 0.00057\n",
            "3/[0, 1, 2, 3, 4] Adv-Discriminator Loss: 0.00042\n",
            "4/[0, 1, 2, 3, 4] Adv-Discriminator Loss: 0.00038\n",
            "Epoch: 12/100  Adv\n",
            "Adv-Manager loss: -0.24553 Adv-Worker loss: 8.45588\n",
            "0/[0, 1, 2, 3, 4] Adv-Discriminator Loss: 0.00038\n",
            "1/[0, 1, 2, 3, 4] Adv-Discriminator Loss: 0.00038\n",
            "2/[0, 1, 2, 3, 4] Adv-Discriminator Loss: 0.00039\n",
            "3/[0, 1, 2, 3, 4] Adv-Discriminator Loss: 0.00064\n",
            "4/[0, 1, 2, 3, 4] Adv-Discriminator Loss: 0.00045\n",
            "Epoch: 13/100  Adv\n",
            "Adv-Manager loss: -0.24482 Adv-Worker loss: 8.45510\n",
            "0/[0, 1, 2, 3, 4] Adv-Discriminator Loss: 0.00044\n",
            "1/[0, 1, 2, 3, 4] Adv-Discriminator Loss: 0.00038\n",
            "2/[0, 1, 2, 3, 4] Adv-Discriminator Loss: 0.00039\n",
            "3/[0, 1, 2, 3, 4] Adv-Discriminator Loss: 0.00040\n",
            "4/[0, 1, 2, 3, 4] Adv-Discriminator Loss: 0.00042\n",
            "Epoch: 14/100  Adv\n",
            "Adv-Manager loss: -0.24622 Adv-Worker loss: 8.48761\n",
            "0/[0, 1, 2, 3, 4] Adv-Discriminator Loss: 0.00055\n",
            "1/[0, 1, 2, 3, 4] Adv-Discriminator Loss: 0.00038\n",
            "2/[0, 1, 2, 3, 4] Adv-Discriminator Loss: 0.00038\n",
            "3/[0, 1, 2, 3, 4] Adv-Discriminator Loss: 0.00054\n",
            "4/[0, 1, 2, 3, 4] Adv-Discriminator Loss: 0.00044\n",
            "Epoch: 15/100  Adv\n",
            "Adv-Manager loss: -0.24581 Adv-Worker loss: 8.47867\n",
            "0/[0, 1, 2, 3, 4] Adv-Discriminator Loss: 0.00050\n",
            "1/[0, 1, 2, 3, 4] Adv-Discriminator Loss: 0.00059\n",
            "2/[0, 1, 2, 3, 4] Adv-Discriminator Loss: 0.00043\n",
            "3/[0, 1, 2, 3, 4] Adv-Discriminator Loss: 0.00040\n",
            "4/[0, 1, 2, 3, 4] Adv-Discriminator Loss: 0.00043\n",
            "Epoch: 16/100  Adv\n",
            "Adv-Manager loss: -0.24688 Adv-Worker loss: 8.49394\n",
            "0/[0, 1, 2, 3, 4] Adv-Discriminator Loss: 0.00041\n",
            "1/[0, 1, 2, 3, 4] Adv-Discriminator Loss: 0.00050\n",
            "2/[0, 1, 2, 3, 4] Adv-Discriminator Loss: 0.00044\n",
            "3/[0, 1, 2, 3, 4] Adv-Discriminator Loss: 0.00043\n",
            "4/[0, 1, 2, 3, 4] Adv-Discriminator Loss: 0.00040\n",
            "Epoch: 17/100  Adv\n",
            "Adv-Manager loss: -0.24717 Adv-Worker loss: 8.46942\n",
            "0/[0, 1, 2, 3, 4] Adv-Discriminator Loss: 0.00069\n",
            "1/[0, 1, 2, 3, 4] Adv-Discriminator Loss: 0.00038\n",
            "2/[0, 1, 2, 3, 4] Adv-Discriminator Loss: 0.00042\n",
            "3/[0, 1, 2, 3, 4] Adv-Discriminator Loss: 0.00071\n",
            "4/[0, 1, 2, 3, 4] Adv-Discriminator Loss: 0.00058\n",
            "Epoch: 18/100  Adv\n",
            "Adv-Manager loss: -0.24632 Adv-Worker loss: 8.47170\n",
            "0/[0, 1, 2, 3, 4] Adv-Discriminator Loss: 0.00056\n",
            "1/[0, 1, 2, 3, 4] Adv-Discriminator Loss: 0.00042\n",
            "2/[0, 1, 2, 3, 4] Adv-Discriminator Loss: 0.00040\n",
            "3/[0, 1, 2, 3, 4] Adv-Discriminator Loss: 0.00047\n",
            "4/[0, 1, 2, 3, 4] Adv-Discriminator Loss: 0.00046\n",
            "Epoch: 19/100  Adv\n",
            "Adv-Manager loss: -0.24661 Adv-Worker loss: 8.46294\n",
            "0/[0, 1, 2, 3, 4] Adv-Discriminator Loss: 0.00037\n",
            "1/[0, 1, 2, 3, 4] Adv-Discriminator Loss: 0.00044\n",
            "2/[0, 1, 2, 3, 4] Adv-Discriminator Loss: 0.00049\n",
            "3/[0, 1, 2, 3, 4] Adv-Discriminator Loss: 0.00043\n",
            "4/[0, 1, 2, 3, 4] Adv-Discriminator Loss: 0.00047\n",
            "Epoch: 20/100  Adv\n",
            "Adv-Manager loss: -0.24662 Adv-Worker loss: 8.48345\n",
            "0/[0, 1, 2, 3, 4] Adv-Discriminator Loss: 0.00037\n",
            "1/[0, 1, 2, 3, 4] Adv-Discriminator Loss: 0.00041\n",
            "2/[0, 1, 2, 3, 4] Adv-Discriminator Loss: 0.00066\n",
            "3/[0, 1, 2, 3, 4] Adv-Discriminator Loss: 0.00039\n",
            "4/[0, 1, 2, 3, 4] Adv-Discriminator Loss: 0.00040\n",
            "Epoch: 21/100  Adv\n",
            "Adv-Manager loss: -0.24634 Adv-Worker loss: 8.48331\n",
            "0/[0, 1, 2, 3, 4] Adv-Discriminator Loss: 0.00066\n",
            "1/[0, 1, 2, 3, 4] Adv-Discriminator Loss: 0.00058\n",
            "2/[0, 1, 2, 3, 4] Adv-Discriminator Loss: 0.00043\n",
            "3/[0, 1, 2, 3, 4] Adv-Discriminator Loss: 0.00041\n",
            "4/[0, 1, 2, 3, 4] Adv-Discriminator Loss: 0.00038\n",
            "Epoch: 22/100  Adv\n",
            "Adv-Manager loss: -0.24558 Adv-Worker loss: 8.45653\n",
            "0/[0, 1, 2, 3, 4] Adv-Discriminator Loss: 0.00051\n",
            "1/[0, 1, 2, 3, 4] Adv-Discriminator Loss: 0.00052\n",
            "2/[0, 1, 2, 3, 4] Adv-Discriminator Loss: 0.00048\n",
            "3/[0, 1, 2, 3, 4] Adv-Discriminator Loss: 0.00039\n",
            "4/[0, 1, 2, 3, 4] Adv-Discriminator Loss: 0.00050\n",
            "Epoch: 23/100  Adv\n",
            "Adv-Manager loss: -0.24546 Adv-Worker loss: 8.46889\n",
            "0/[0, 1, 2, 3, 4] Adv-Discriminator Loss: 0.00062\n",
            "1/[0, 1, 2, 3, 4] Adv-Discriminator Loss: 0.00038\n",
            "2/[0, 1, 2, 3, 4] Adv-Discriminator Loss: 0.00045\n",
            "3/[0, 1, 2, 3, 4] Adv-Discriminator Loss: 0.00043\n",
            "4/[0, 1, 2, 3, 4] Adv-Discriminator Loss: 0.00040\n",
            "Epoch: 24/100  Adv\n",
            "Adv-Manager loss: -0.24588 Adv-Worker loss: 8.45828\n",
            "0/[0, 1, 2, 3, 4] Adv-Discriminator Loss: 0.00039\n",
            "1/[0, 1, 2, 3, 4] Adv-Discriminator Loss: 0.00042\n",
            "2/[0, 1, 2, 3, 4] Adv-Discriminator Loss: 0.00050\n",
            "3/[0, 1, 2, 3, 4] Adv-Discriminator Loss: 0.00039\n",
            "4/[0, 1, 2, 3, 4] Adv-Discriminator Loss: 0.00038\n",
            "Epoch: 25/100  Adv\n",
            "Adv-Manager loss: -0.24573 Adv-Worker loss: 8.45775\n",
            "0/[0, 1, 2, 3, 4] Adv-Discriminator Loss: 0.00043\n",
            "1/[0, 1, 2, 3, 4] Adv-Discriminator Loss: 0.00040\n",
            "2/[0, 1, 2, 3, 4] Adv-Discriminator Loss: 0.00042\n",
            "3/[0, 1, 2, 3, 4] Adv-Discriminator Loss: 0.00043\n",
            "4/[0, 1, 2, 3, 4] Adv-Discriminator Loss: 0.00047\n",
            "Epoch: 26/100  Adv\n",
            "Adv-Manager loss: -0.24548 Adv-Worker loss: 8.44672\n",
            "0/[0, 1, 2, 3, 4] Adv-Discriminator Loss: 0.00048\n",
            "1/[0, 1, 2, 3, 4] Adv-Discriminator Loss: 0.00037\n",
            "2/[0, 1, 2, 3, 4] Adv-Discriminator Loss: 0.00040\n",
            "3/[0, 1, 2, 3, 4] Adv-Discriminator Loss: 0.00043\n",
            "4/[0, 1, 2, 3, 4] Adv-Discriminator Loss: 0.00055\n",
            "Epoch: 27/100  Adv\n",
            "Adv-Manager loss: -0.24606 Adv-Worker loss: 8.49764\n",
            "0/[0, 1, 2, 3, 4] Adv-Discriminator Loss: 0.00066\n",
            "1/[0, 1, 2, 3, 4] Adv-Discriminator Loss: 0.00043\n",
            "2/[0, 1, 2, 3, 4] Adv-Discriminator Loss: 0.00042\n",
            "3/[0, 1, 2, 3, 4] Adv-Discriminator Loss: 0.00043\n",
            "4/[0, 1, 2, 3, 4] Adv-Discriminator Loss: 0.00044\n",
            "Epoch: 28/100  Adv\n",
            "Adv-Manager loss: -0.24656 Adv-Worker loss: 8.47122\n",
            "0/[0, 1, 2, 3, 4] Adv-Discriminator Loss: 0.00039\n",
            "1/[0, 1, 2, 3, 4] Adv-Discriminator Loss: 0.00047\n",
            "2/[0, 1, 2, 3, 4] Adv-Discriminator Loss: 0.00044\n",
            "3/[0, 1, 2, 3, 4] Adv-Discriminator Loss: 0.00071\n",
            "4/[0, 1, 2, 3, 4] Adv-Discriminator Loss: 0.00039\n",
            "Epoch: 29/100  Adv\n",
            "Adv-Manager loss: -0.24547 Adv-Worker loss: 8.47483\n",
            "0/[0, 1, 2, 3, 4] Adv-Discriminator Loss: 0.00042\n",
            "1/[0, 1, 2, 3, 4] Adv-Discriminator Loss: 0.00045\n",
            "2/[0, 1, 2, 3, 4] Adv-Discriminator Loss: 0.00037\n",
            "3/[0, 1, 2, 3, 4] Adv-Discriminator Loss: 0.00037\n",
            "4/[0, 1, 2, 3, 4] Adv-Discriminator Loss: 0.00039\n",
            "Epoch: 30/100  Adv\n",
            "Adv-Manager loss: -0.24633 Adv-Worker loss: 8.49785\n",
            "0/[0, 1, 2, 3, 4] Adv-Discriminator Loss: 0.00039\n",
            "1/[0, 1, 2, 3, 4] Adv-Discriminator Loss: 0.00062\n",
            "2/[0, 1, 2, 3, 4] Adv-Discriminator Loss: 0.00058\n",
            "3/[0, 1, 2, 3, 4] Adv-Discriminator Loss: 0.00048\n",
            "4/[0, 1, 2, 3, 4] Adv-Discriminator Loss: 0.00049\n",
            "Epoch: 31/100  Adv\n",
            "Adv-Manager loss: -0.24578 Adv-Worker loss: 8.46823\n",
            "0/[0, 1, 2, 3, 4] Adv-Discriminator Loss: 0.00043\n",
            "1/[0, 1, 2, 3, 4] Adv-Discriminator Loss: 0.00045\n",
            "2/[0, 1, 2, 3, 4] Adv-Discriminator Loss: 0.00038\n",
            "3/[0, 1, 2, 3, 4] Adv-Discriminator Loss: 0.00045\n",
            "4/[0, 1, 2, 3, 4] Adv-Discriminator Loss: 0.00042\n",
            "Epoch: 32/100  Adv\n",
            "Adv-Manager loss: -0.24635 Adv-Worker loss: 8.49781\n",
            "0/[0, 1, 2, 3, 4] Adv-Discriminator Loss: 0.00045\n",
            "1/[0, 1, 2, 3, 4] Adv-Discriminator Loss: 0.00043\n",
            "2/[0, 1, 2, 3, 4] Adv-Discriminator Loss: 0.00042\n",
            "3/[0, 1, 2, 3, 4] Adv-Discriminator Loss: 0.00044\n",
            "4/[0, 1, 2, 3, 4] Adv-Discriminator Loss: 0.00053\n",
            "Epoch: 33/100  Adv\n",
            "Adv-Manager loss: -0.24652 Adv-Worker loss: 8.47788\n",
            "0/[0, 1, 2, 3, 4] Adv-Discriminator Loss: 0.00045\n",
            "1/[0, 1, 2, 3, 4] Adv-Discriminator Loss: 0.00038\n",
            "2/[0, 1, 2, 3, 4] Adv-Discriminator Loss: 0.00036\n",
            "3/[0, 1, 2, 3, 4] Adv-Discriminator Loss: 0.00042\n",
            "4/[0, 1, 2, 3, 4] Adv-Discriminator Loss: 0.00048\n",
            "Epoch: 34/100  Adv\n",
            "Adv-Manager loss: -0.24613 Adv-Worker loss: 8.47208\n",
            "0/[0, 1, 2, 3, 4] Adv-Discriminator Loss: 0.00052\n",
            "1/[0, 1, 2, 3, 4] Adv-Discriminator Loss: 0.00049\n",
            "2/[0, 1, 2, 3, 4] Adv-Discriminator Loss: 0.00061\n",
            "3/[0, 1, 2, 3, 4] Adv-Discriminator Loss: 0.00042\n",
            "4/[0, 1, 2, 3, 4] Adv-Discriminator Loss: 0.00068\n",
            "Epoch: 35/100  Adv\n",
            "Adv-Manager loss: -0.24547 Adv-Worker loss: 8.45551\n",
            "0/[0, 1, 2, 3, 4] Adv-Discriminator Loss: 0.00064\n",
            "1/[0, 1, 2, 3, 4] Adv-Discriminator Loss: 0.00061\n",
            "2/[0, 1, 2, 3, 4] Adv-Discriminator Loss: 0.00053\n",
            "3/[0, 1, 2, 3, 4] Adv-Discriminator Loss: 0.00048\n",
            "4/[0, 1, 2, 3, 4] Adv-Discriminator Loss: 0.00043\n",
            "Epoch: 36/100  Adv\n",
            "Adv-Manager loss: -0.24676 Adv-Worker loss: 8.47449\n",
            "0/[0, 1, 2, 3, 4] Adv-Discriminator Loss: 0.00095\n",
            "1/[0, 1, 2, 3, 4] Adv-Discriminator Loss: 0.00045\n",
            "2/[0, 1, 2, 3, 4] Adv-Discriminator Loss: 0.00066\n",
            "3/[0, 1, 2, 3, 4] Adv-Discriminator Loss: 0.00040\n",
            "4/[0, 1, 2, 3, 4] Adv-Discriminator Loss: 0.00051\n",
            "Epoch: 37/100  Adv\n",
            "Adv-Manager loss: -0.24563 Adv-Worker loss: 8.46940\n",
            "0/[0, 1, 2, 3, 4] Adv-Discriminator Loss: 0.00051\n",
            "1/[0, 1, 2, 3, 4] Adv-Discriminator Loss: 0.00052\n",
            "2/[0, 1, 2, 3, 4] Adv-Discriminator Loss: 0.00046\n",
            "3/[0, 1, 2, 3, 4] Adv-Discriminator Loss: 0.00049\n",
            "4/[0, 1, 2, 3, 4] Adv-Discriminator Loss: 0.00038\n",
            "Epoch: 38/100  Adv\n",
            "Adv-Manager loss: -0.24627 Adv-Worker loss: 8.47757\n",
            "0/[0, 1, 2, 3, 4] Adv-Discriminator Loss: 0.00037\n",
            "1/[0, 1, 2, 3, 4] Adv-Discriminator Loss: 0.00055\n",
            "2/[0, 1, 2, 3, 4] Adv-Discriminator Loss: 0.00041\n",
            "3/[0, 1, 2, 3, 4] Adv-Discriminator Loss: 0.00040\n",
            "4/[0, 1, 2, 3, 4] Adv-Discriminator Loss: 0.00039\n",
            "Epoch: 39/100  Adv\n",
            "Adv-Manager loss: -0.24569 Adv-Worker loss: 8.45721\n",
            "0/[0, 1, 2, 3, 4] Adv-Discriminator Loss: 0.00047\n",
            "1/[0, 1, 2, 3, 4] Adv-Discriminator Loss: 0.00051\n",
            "2/[0, 1, 2, 3, 4] Adv-Discriminator Loss: 0.00042\n",
            "3/[0, 1, 2, 3, 4] Adv-Discriminator Loss: 0.00039\n",
            "4/[0, 1, 2, 3, 4] Adv-Discriminator Loss: 0.00053\n",
            "Epoch: 40/100  Adv\n",
            "Adv-Manager loss: -0.24617 Adv-Worker loss: 8.45718\n",
            "0/[0, 1, 2, 3, 4] Adv-Discriminator Loss: 0.00042\n",
            "1/[0, 1, 2, 3, 4] Adv-Discriminator Loss: 0.00041\n",
            "2/[0, 1, 2, 3, 4] Adv-Discriminator Loss: 0.00047\n",
            "3/[0, 1, 2, 3, 4] Adv-Discriminator Loss: 0.00041\n",
            "4/[0, 1, 2, 3, 4] Adv-Discriminator Loss: 0.00075\n",
            "Epoch: 41/100  Adv\n",
            "Adv-Manager loss: -0.24631 Adv-Worker loss: 8.47289\n",
            "0/[0, 1, 2, 3, 4] Adv-Discriminator Loss: 0.00064\n",
            "1/[0, 1, 2, 3, 4] Adv-Discriminator Loss: 0.00088\n",
            "2/[0, 1, 2, 3, 4] Adv-Discriminator Loss: 0.00061\n",
            "3/[0, 1, 2, 3, 4] Adv-Discriminator Loss: 0.00041\n",
            "4/[0, 1, 2, 3, 4] Adv-Discriminator Loss: 0.00038\n",
            "Epoch: 42/100  Adv\n",
            "Adv-Manager loss: -0.24597 Adv-Worker loss: 8.47454\n",
            "0/[0, 1, 2, 3, 4] Adv-Discriminator Loss: 0.00037\n",
            "1/[0, 1, 2, 3, 4] Adv-Discriminator Loss: 0.00041\n",
            "2/[0, 1, 2, 3, 4] Adv-Discriminator Loss: 0.00059\n",
            "3/[0, 1, 2, 3, 4] Adv-Discriminator Loss: 0.00042\n",
            "4/[0, 1, 2, 3, 4] Adv-Discriminator Loss: 0.00040\n",
            "Epoch: 43/100  Adv\n",
            "Adv-Manager loss: -0.24684 Adv-Worker loss: 8.45915\n",
            "0/[0, 1, 2, 3, 4] Adv-Discriminator Loss: 0.00053\n",
            "1/[0, 1, 2, 3, 4] Adv-Discriminator Loss: 0.00041\n",
            "2/[0, 1, 2, 3, 4] Adv-Discriminator Loss: 0.00043\n",
            "3/[0, 1, 2, 3, 4] Adv-Discriminator Loss: 0.00044\n",
            "4/[0, 1, 2, 3, 4] Adv-Discriminator Loss: 0.00040\n",
            "Epoch: 44/100  Adv\n",
            "Adv-Manager loss: -0.24567 Adv-Worker loss: 8.46146\n",
            "0/[0, 1, 2, 3, 4] Adv-Discriminator Loss: 0.00039\n",
            "1/[0, 1, 2, 3, 4] Adv-Discriminator Loss: 0.00045\n",
            "2/[0, 1, 2, 3, 4] Adv-Discriminator Loss: 0.00040\n",
            "3/[0, 1, 2, 3, 4] Adv-Discriminator Loss: 0.00048\n",
            "4/[0, 1, 2, 3, 4] Adv-Discriminator Loss: 0.00057\n",
            "Epoch: 45/100  Adv\n",
            "Adv-Manager loss: -0.24600 Adv-Worker loss: 8.48255\n",
            "0/[0, 1, 2, 3, 4] Adv-Discriminator Loss: 0.00066\n",
            "1/[0, 1, 2, 3, 4] Adv-Discriminator Loss: 0.00046\n",
            "2/[0, 1, 2, 3, 4] Adv-Discriminator Loss: 0.00049\n",
            "3/[0, 1, 2, 3, 4] Adv-Discriminator Loss: 0.00061\n",
            "4/[0, 1, 2, 3, 4] Adv-Discriminator Loss: 0.00040\n",
            "Epoch: 46/100  Adv\n",
            "Adv-Manager loss: -0.24508 Adv-Worker loss: 8.46128\n",
            "0/[0, 1, 2, 3, 4] Adv-Discriminator Loss: 0.00042\n",
            "1/[0, 1, 2, 3, 4] Adv-Discriminator Loss: 0.00047\n",
            "2/[0, 1, 2, 3, 4] Adv-Discriminator Loss: 0.00041\n",
            "3/[0, 1, 2, 3, 4] Adv-Discriminator Loss: 0.00047\n",
            "4/[0, 1, 2, 3, 4] Adv-Discriminator Loss: 0.00039\n",
            "Epoch: 47/100  Adv\n",
            "Adv-Manager loss: -0.24640 Adv-Worker loss: 8.46981\n"
          ],
          "name": "stdout"
        }
      ]
    },
    {
      "cell_type": "code",
      "metadata": {
        "id": "3NQ6iPOydJLO"
      },
      "source": [
        "genfilepath = \"data/generated_file.txt\"\n",
        "genarraypath = \"data/gen_corpus.npy\"\n",
        "reffilepath = \"data/reference_file.txt\"\n",
        "refarraypath = \"data/corpus.npy\"\n",
        "\n",
        "tensor_to_text(genfilepath, genarraypath, vocab_file)\n",
        "tensor_to_text(reffilepath, refarraypath, vocab_file)"
      ],
      "execution_count": 11,
      "outputs": []
    },
    {
      "cell_type": "code",
      "metadata": {
        "colab": {
          "base_uri": "https://localhost:8080/"
        },
        "id": "rVpJOI_94z3q",
        "outputId": "cee95155-9d37-468a-fcb8-ee58d8280008"
      },
      "source": [
        "!python3 eval_bleu.py"
      ],
      "execution_count": 14,
      "outputs": [
        {
          "output_type": "stream",
          "text": [
            "/usr/local/lib/python3.7/dist-packages/nltk/translate/bleu_score.py:490: UserWarning: \n",
            "Corpus/Sentence contains 0 counts of 2-gram overlaps.\n",
            "BLEU scores might be undesirable; use SmoothingFunction().\n",
            "  warnings.warn(_msg)\n",
            "LeakGAN\n",
            "2 -gram BLEU score:  0.297822503767112\n",
            "LeakGAN\n",
            "3 -gram BLEU score:  0.21527181776608878\n",
            "LeakGAN\n",
            "4 -gram BLEU score:  0.1260470864408072\n",
            "LeakGAN\n",
            "5 -gram BLEU score:  0.1323972738163015\n"
          ],
          "name": "stdout"
        }
      ]
    },
    {
      "cell_type": "code",
      "metadata": {
        "id": "mhjr8XXt3DyV"
      },
      "source": [
        ""
      ],
      "execution_count": null,
      "outputs": []
    }
  ]
}